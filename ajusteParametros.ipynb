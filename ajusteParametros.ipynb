{
 "cells": [
  {
   "cell_type": "code",
   "execution_count": 1,
   "metadata": {},
   "outputs": [],
   "source": [
    "import re\n",
    "import pandas as pd\n",
    "from wordcloud import WordCloud\n",
    "import nltk\n",
    "import matplotlib.pyplot as plt\n",
    "from sklearn import linear_model\n",
    "from sklearn.model_selection import train_test_split"
   ]
  },
  {
   "cell_type": "code",
   "execution_count": 2,
   "metadata": {},
   "outputs": [],
   "source": [
    "def clean(text):\n",
    "    text = text.lower()\n",
    "    text = re.sub(\n",
    "        r\"https?:\\/\\/(www\\.)? ?[-a-zA-Z0-9@:%._\\+~#=]{1,256}\\. ?[a-zA-Z0-9()]{1,6}\\b([-a-zA-Z0-9()@:%_\\+.~#?&//=]*)\",\n",
    "        \"\",\n",
    "        text,\n",
    "    )\n",
    "    text = re.sub(r\"(it | he | she | that)'?s\", '\\1 is', text)\n",
    "    text = re.sub(r\"(they | we | you)'re\", '\\1 are', text)\n",
    "    text = re.sub(r\"(they | we | you)'?ve\", '\\1 have', text)\n",
    "    text = re.sub(r\"this'\", 'this is', text)\n",
    "    text = re.sub(r\"http\", ' ', text)\n",
    "    text = re.sub(r\"html\", ' ', text)\n",
    "    text = re.sub(r\"didn'?t\", 'did not', text)\n",
    "    text = re.sub(r\"don'?t\", 'do not', text)\n",
    "    text = re.sub(r\"don'?t\", 'do not', text)\n",
    "    text = re.sub(r\"can'?t\", 'cannot', text)\n",
    "    text = re.sub(r\"&.+;\", ' ', text)\n",
    "    text = re.sub(r'\\s+', ' ', text)\n",
    "    return text"
   ]
  },
  {
   "cell_type": "code",
   "execution_count": 3,
   "metadata": {},
   "outputs": [
    {
     "data": {
      "text/html": [
       "<div>\n",
       "<style scoped>\n",
       "    .dataframe tbody tr th:only-of-type {\n",
       "        vertical-align: middle;\n",
       "    }\n",
       "\n",
       "    .dataframe tbody tr th {\n",
       "        vertical-align: top;\n",
       "    }\n",
       "\n",
       "    .dataframe thead th {\n",
       "        text-align: right;\n",
       "    }\n",
       "</style>\n",
       "<table border=\"1\" class=\"dataframe\">\n",
       "  <thead>\n",
       "    <tr style=\"text-align: right;\">\n",
       "      <th></th>\n",
       "      <th>comment_text</th>\n",
       "      <th>label</th>\n",
       "    </tr>\n",
       "  </thead>\n",
       "  <tbody>\n",
       "    <tr>\n",
       "      <th>1946</th>\n",
       "      <td>[... what? ](</td>\n",
       "      <td>-1</td>\n",
       "    </tr>\n",
       "    <tr>\n",
       "      <th>1947</th>\n",
       "      <td>does anybody remember during one of the debate...</td>\n",
       "      <td>-1</td>\n",
       "    </tr>\n",
       "    <tr>\n",
       "      <th>1948</th>\n",
       "      <td>the pope is meeting a cruel dictator. likely w...</td>\n",
       "      <td>1</td>\n",
       "    </tr>\n",
       "  </tbody>\n",
       "</table>\n",
       "</div>"
      ],
      "text/plain": [
       "                                           comment_text  label\n",
       "1946                                      [... what? ](     -1\n",
       "1947  does anybody remember during one of the debate...     -1\n",
       "1948  the pope is meeting a cruel dictator. likely w...      1"
      ]
     },
     "execution_count": 3,
     "metadata": {},
     "output_type": "execute_result"
    }
   ],
   "source": [
    "df = pd.read_csv('irony-labeled.csv')\n",
    "df['comment_text'] = df['comment_text'].apply(clean)\n",
    "df.tail(3)"
   ]
  },
  {
   "cell_type": "code",
   "execution_count": 4,
   "metadata": {},
   "outputs": [],
   "source": [
    "from nltk.corpus import stopwords\n",
    "STOPWORDS = stopwords.words('english')\n",
    "STOPWORDS = set(STOPWORDS)"
   ]
  },
  {
   "cell_type": "code",
   "execution_count": 5,
   "metadata": {},
   "outputs": [],
   "source": [
    "def preprocess(sent):\n",
    "    def convert(word):\n",
    "        word = re.sub(r\"\\W+\", \"\", word)\n",
    "        # Verifica se é um número.\n",
    "        try:\n",
    "            _ = float(word)\n",
    "            return '<num>'\n",
    "        except:\n",
    "            pass\n",
    "\n",
    "        # Verifica se é uma palavra.\n",
    "        if word.isalpha():\n",
    "            lower = word.lower()\n",
    "            return '<stop>' if lower in STOPWORDS else lower\n",
    "\n",
    "        # Caso contrário, é pontuação ou estranho.\n",
    "        return '<weird>'\n",
    "\n",
    "    processed = [convert(word) for word in sent]\n",
    "    forbidden_words = set(('<num>', '<stop>', '<weird>'))\n",
    "    return [word for word in processed if word not in forbidden_words]"
   ]
  },
  {
   "cell_type": "code",
   "execution_count": 6,
   "metadata": {
    "tags": []
   },
   "outputs": [
    {
     "data": {
      "text/html": [
       "<div>\n",
       "<style scoped>\n",
       "    .dataframe tbody tr th:only-of-type {\n",
       "        vertical-align: middle;\n",
       "    }\n",
       "\n",
       "    .dataframe tbody tr th {\n",
       "        vertical-align: top;\n",
       "    }\n",
       "\n",
       "    .dataframe thead th {\n",
       "        text-align: right;\n",
       "    }\n",
       "</style>\n",
       "<table border=\"1\" class=\"dataframe\">\n",
       "  <thead>\n",
       "    <tr style=\"text-align: right;\">\n",
       "      <th></th>\n",
       "      <th>comment_text</th>\n",
       "      <th>label</th>\n",
       "      <th>word_list</th>\n",
       "    </tr>\n",
       "  </thead>\n",
       "  <tbody>\n",
       "    <tr>\n",
       "      <th>0</th>\n",
       "      <td>i suspect atheists are projecting their desire...</td>\n",
       "      <td>-1</td>\n",
       "      <td>[suspect, atheists, projecting, desires, imagi...</td>\n",
       "    </tr>\n",
       "    <tr>\n",
       "      <th>1</th>\n",
       "      <td>it's funny how the arguments the shills are ma...</td>\n",
       "      <td>-1</td>\n",
       "      <td>[funny, arguments, shills, making, still, clos...</td>\n",
       "    </tr>\n",
       "    <tr>\n",
       "      <th>2</th>\n",
       "      <td>we are truly following the patterns of how the...</td>\n",
       "      <td>-1</td>\n",
       "      <td>[truly, following, patterns, mandarins, took, ...</td>\n",
       "    </tr>\n",
       "  </tbody>\n",
       "</table>\n",
       "</div>"
      ],
      "text/plain": [
       "                                        comment_text  label  \\\n",
       "0  i suspect atheists are projecting their desire...     -1   \n",
       "1  it's funny how the arguments the shills are ma...     -1   \n",
       "2  we are truly following the patterns of how the...     -1   \n",
       "\n",
       "                                           word_list  \n",
       "0  [suspect, atheists, projecting, desires, imagi...  \n",
       "1  [funny, arguments, shills, making, still, clos...  \n",
       "2  [truly, following, patterns, mandarins, took, ...  "
      ]
     },
     "execution_count": 6,
     "metadata": {},
     "output_type": "execute_result"
    }
   ],
   "source": [
    "sents_all = [preprocess(item.strip().split()) for item in df.comment_text]\n",
    "df['word_list'] = sents_all\n",
    "df.head(3)"
   ]
  },
  {
   "cell_type": "code",
   "execution_count": 7,
   "metadata": {},
   "outputs": [],
   "source": [
    "from gensim.corpora import Dictionary\n",
    "from gensim.models.ldamulticore import LdaMulticore"
   ]
  },
  {
   "cell_type": "code",
   "execution_count": 8,
   "metadata": {},
   "outputs": [],
   "source": [
    "from gensim.models import CoherenceModel\n",
    "\n",
    "# O random_state foi usado aqui para manter consistência na apresentação dos resultados. Ao remover o estado fixado, no entanto, os valores dos modelos de tópicos se mantém com a característica decrescente observada. \n",
    "# Ou seja, não importa quando estado fixado, os resultados sempre demonstram que modelos de 2 tópicos são os mais coerentes, seguidos dos de 3 tópicos, etc.\n",
    "\n",
    "def compute_coherence_values(dictionary, corpus, texts,  k, a, b,start=2, step=3):\n",
    "\n",
    "    model = LdaMulticore(corpus = corpus, num_topics=k, id2word=dictionary, random_state=100, passes=10, iterations=25, alpha=a, eta=b, chunksize=100)\n",
    "\n",
    "    coherencemodel = CoherenceModel(model=model, corpus=corpus, texts=texts, dictionary=dictionary, coherence='u_mass')\n",
    "\n",
    "    return coherencemodel.get_coherence()"
   ]
  },
  {
   "cell_type": "code",
   "execution_count": 9,
   "metadata": {},
   "outputs": [],
   "source": [
    "dictionary_all = Dictionary(sents_all)\n",
    "corpus_all = [dictionary_all.doc2bow(sent) for sent in sents_all]"
   ]
  },
  {
   "cell_type": "code",
   "execution_count": 10,
   "metadata": {},
   "outputs": [
    {
     "name": "stderr",
     "output_type": "stream",
     "text": [
      "100%|███████████████████████████████████████████████████████████████████████████████████| 9/9 [30:41<00:00, 204.60s/it]\n"
     ]
    }
   ],
   "source": [
    "import numpy as np\n",
    "from tqdm import tqdm\n",
    "# Topicos\n",
    "min_topics = 2\n",
    "max_topics = 11\n",
    "step_size = 1\n",
    "topics_range = range(min_topics, max_topics, step_size)\n",
    "# Alpha \n",
    "alpha = list(np.arange(0.01, 1, 0.3))\n",
    "alpha.append('symmetric')\n",
    "alpha.append('asymmetric')\n",
    "# Beta \n",
    "beta = list(np.arange(0.01, 1, 0.3))\n",
    "beta.append('symmetric')\n",
    "\n",
    "num_of_docs = len(corpus_all)\n",
    "model_results = {'Topics': [],\n",
    "                 'Alpha': [],\n",
    "                 'Beta': [],\n",
    "                 'Coherence': []\n",
    "                }\n",
    "\n",
    "# itera sobre topicos\n",
    "for k in tqdm(topics_range):\n",
    "    # itera sobre alpha\n",
    "    for a in alpha:\n",
    "        # itera sobre beta\n",
    "        for b in beta:\n",
    "            # obtem coerencia dados os parametros\n",
    "            cv = compute_coherence_values(dictionary=dictionary_all, corpus=corpus_all, texts=sents_all, k=k, a=a, b=b)\n",
    "            model_results['Topics'].append(k)\n",
    "            model_results['Alpha'].append(a)\n",
    "            model_results['Beta'].append(b)\n",
    "            model_results['Coherence'].append(cv)\n",
    "\n",
    "pd.DataFrame(model_results).to_csv('lda_tuning_results.csv', index=False)"
   ]
  },
  {
   "cell_type": "code",
   "execution_count": 11,
   "metadata": {},
   "outputs": [
    {
     "data": {
      "text/html": [
       "<div>\n",
       "<style scoped>\n",
       "    .dataframe tbody tr th:only-of-type {\n",
       "        vertical-align: middle;\n",
       "    }\n",
       "\n",
       "    .dataframe tbody tr th {\n",
       "        vertical-align: top;\n",
       "    }\n",
       "\n",
       "    .dataframe thead th {\n",
       "        text-align: right;\n",
       "    }\n",
       "</style>\n",
       "<table border=\"1\" class=\"dataframe\">\n",
       "  <thead>\n",
       "    <tr style=\"text-align: right;\">\n",
       "      <th></th>\n",
       "      <th>Alpha</th>\n",
       "      <th>Beta</th>\n",
       "      <th>Coherence</th>\n",
       "    </tr>\n",
       "    <tr>\n",
       "      <th>Topics</th>\n",
       "      <th></th>\n",
       "      <th></th>\n",
       "      <th></th>\n",
       "    </tr>\n",
       "  </thead>\n",
       "  <tbody>\n",
       "    <tr>\n",
       "      <th>2</th>\n",
       "      <td>symmetric</td>\n",
       "      <td>symmetric</td>\n",
       "      <td>-2.228871</td>\n",
       "    </tr>\n",
       "    <tr>\n",
       "      <th>3</th>\n",
       "      <td>symmetric</td>\n",
       "      <td>symmetric</td>\n",
       "      <td>-2.240554</td>\n",
       "    </tr>\n",
       "    <tr>\n",
       "      <th>4</th>\n",
       "      <td>symmetric</td>\n",
       "      <td>symmetric</td>\n",
       "      <td>-2.538752</td>\n",
       "    </tr>\n",
       "    <tr>\n",
       "      <th>5</th>\n",
       "      <td>symmetric</td>\n",
       "      <td>symmetric</td>\n",
       "      <td>-2.509785</td>\n",
       "    </tr>\n",
       "    <tr>\n",
       "      <th>6</th>\n",
       "      <td>symmetric</td>\n",
       "      <td>symmetric</td>\n",
       "      <td>-3.212903</td>\n",
       "    </tr>\n",
       "    <tr>\n",
       "      <th>7</th>\n",
       "      <td>symmetric</td>\n",
       "      <td>symmetric</td>\n",
       "      <td>-3.580729</td>\n",
       "    </tr>\n",
       "    <tr>\n",
       "      <th>8</th>\n",
       "      <td>symmetric</td>\n",
       "      <td>symmetric</td>\n",
       "      <td>-4.300689</td>\n",
       "    </tr>\n",
       "    <tr>\n",
       "      <th>9</th>\n",
       "      <td>symmetric</td>\n",
       "      <td>symmetric</td>\n",
       "      <td>-3.969757</td>\n",
       "    </tr>\n",
       "    <tr>\n",
       "      <th>10</th>\n",
       "      <td>symmetric</td>\n",
       "      <td>symmetric</td>\n",
       "      <td>-4.588944</td>\n",
       "    </tr>\n",
       "  </tbody>\n",
       "</table>\n",
       "</div>"
      ],
      "text/plain": [
       "            Alpha       Beta  Coherence\n",
       "Topics                                 \n",
       "2       symmetric  symmetric  -2.228871\n",
       "3       symmetric  symmetric  -2.240554\n",
       "4       symmetric  symmetric  -2.538752\n",
       "5       symmetric  symmetric  -2.509785\n",
       "6       symmetric  symmetric  -3.212903\n",
       "7       symmetric  symmetric  -3.580729\n",
       "8       symmetric  symmetric  -4.300689\n",
       "9       symmetric  symmetric  -3.969757\n",
       "10      symmetric  symmetric  -4.588944"
      ]
     },
     "execution_count": 11,
     "metadata": {},
     "output_type": "execute_result"
    }
   ],
   "source": [
    "pd.read_csv('lda_tuning_results.csv').groupby(['Topics']).max()"
   ]
  },
  {
   "cell_type": "code",
   "execution_count": null,
   "metadata": {},
   "outputs": [],
   "source": []
  }
 ],
 "metadata": {
  "kernelspec": {
   "display_name": "Python 3",
   "language": "python",
   "name": "python3"
  },
  "language_info": {
   "codemirror_mode": {
    "name": "ipython",
    "version": 3
   },
   "file_extension": ".py",
   "mimetype": "text/x-python",
   "name": "python",
   "nbconvert_exporter": "python",
   "pygments_lexer": "ipython3",
   "version": "3.8.2"
  }
 },
 "nbformat": 4,
 "nbformat_minor": 4
}
